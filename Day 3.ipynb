{
 "cells": [
  {
   "cell_type": "code",
   "execution_count": 17,
   "metadata": {},
   "outputs": [
    {
     "name": "stdout",
     "output_type": "stream",
     "text": [
      "90\n"
     ]
    }
   ],
   "source": [
    "def printEven(n):\n",
    "    count=0;\n",
    "    sum=0;\n",
    "    while(count!=n):\n",
    "        if(count%2==0):\n",
    "            sum=sum+count;\n",
    "        count=count+1;\n",
    "    print(sum);\n",
    "\n",
    "printEven(20);"
   ]
  },
  {
   "cell_type": "code",
   "execution_count": 11,
   "metadata": {
    "scrolled": true
   },
   "outputs": [
    {
     "name": "stdout",
     "output_type": "stream",
     "text": [
      "1\n",
      "2\n",
      "3\n",
      "4\n",
      "6\n"
     ]
    }
   ],
   "source": [
    "#factors list of a given no\n",
    "def factorslist(n):\n",
    "    i=1;\n",
    "    while(i!=n):\n",
    "        if(n%i==0):\n",
    "            print(i);\n",
    "        i=i+1;\n",
    "    return;\n",
    "factorslist(12);"
   ]
  },
  {
   "cell_type": "code",
   "execution_count": 19,
   "metadata": {},
   "outputs": [
    {
     "name": "stdout",
     "output_type": "stream",
     "text": [
      "1 2 3 4 6 "
     ]
    }
   ],
   "source": [
    "#factors list of a given no\n",
    "def factorslist(n):\n",
    "    i=1;\n",
    "    while(i!=n):\n",
    "        if(n%i==0):\n",
    "            print(i,end=\" \");\n",
    "        i=i+1;\n",
    "    return;\n",
    "factorslist(12);"
   ]
  },
  {
   "cell_type": "code",
   "execution_count": 34,
   "metadata": {},
   "outputs": [
    {
     "name": "stdout",
     "output_type": "stream",
     "text": [
      "[1, 2, 3, 4, 5]\n",
      "1\n",
      "1\n",
      "2\n",
      "3\n",
      "4\n",
      "5\n",
      "[3, 4]\n",
      "[1, 2, 3]\n",
      "[4, 5]\n",
      "[2, 3, 4]\n",
      "[3]\n",
      "[1, 3, 5]\n"
     ]
    }
   ],
   "source": [
    "#example of lists\n",
    "list1=[1,2,3,4,5];\n",
    "#to print entire list\n",
    "print(list1);\n",
    "#to print a specific item\n",
    "print(list1[0]);\n",
    "#to print only the values without braces and comma\n",
    "for x in list1:\n",
    "    print(x)\n",
    "print(list1[2:4])\n",
    "#last no will not be considered\n",
    "#not writing lower limit\n",
    "print(list1[:3])\n",
    "#not printing upper limit\n",
    "print(list1[3:])\n",
    "#to print all the nos excluding the 1st and last characters\n",
    "print(list1[1:-1])\n",
    "#to exclude 1st two and last two\n",
    "print(list1[2:-2])\n",
    "#for skipping few nos\n",
    "print(list1[::2])"
   ]
  },
  {
   "cell_type": "code",
   "execution_count": 25,
   "metadata": {},
   "outputs": [
    {
     "name": "stdout",
     "output_type": "stream",
     "text": [
      "sriprada\n",
      "sripragna\n",
      "shireen\n"
     ]
    }
   ],
   "source": [
    "list2=[\"sriprada\",\"sripragna\",\"shireen\"];\n",
    "for x in list2:\n",
    "    print(x);"
   ]
  },
  {
   "cell_type": "code",
   "execution_count": 39,
   "metadata": {},
   "outputs": [
    {
     "name": "stdout",
     "output_type": "stream",
     "text": [
      "[1, 4, 7, 10]\n",
      "[1, 5, 9]\n",
      "[10, 8, 6, 4, 2]\n",
      "[10, 7, 4, 1]\n"
     ]
    }
   ],
   "source": [
    "list=[1,2,3,4,5,6,7,8,9,10]\n",
    "print(list[::3])\n",
    "print(list[::4])\n",
    "print(list[::-2])\n",
    "print(list[::-3])"
   ]
  },
  {
   "cell_type": "code",
   "execution_count": 50,
   "metadata": {},
   "outputs": [
    {
     "name": "stdout",
     "output_type": "stream",
     "text": [
      "['sriprada', 'sripragna', 'shireen']\n",
      "['sriprada', 'sripragna', 15]\n",
      "['sriprada', 'sripragna']\n",
      "['sriprada', 'gitam']\n",
      "2\n",
      "['sriprada', 'gitam', 15]\n",
      "['sriprada', 'gitam', 15, 150]\n"
     ]
    }
   ],
   "source": [
    "list1=[\"sriprada\",\"sripragna\",\"shireen\"]\n",
    "print(list1)\n",
    "list1[2]=15; #update the list item\n",
    "print(list1)\n",
    "del list1[2]; #to delete an item\n",
    "print(list1)\n",
    "list1[1]=\"gitam\";\n",
    "print(list1)\n",
    "#to find the lenght of the list\n",
    "print(len(list1))\n",
    "#inbuild values would be printed\n",
    "list1.append(15);\n",
    "print(list1)\n",
    "list1.append(150)\n",
    "print(list1)"
   ]
  },
  {
   "cell_type": "code",
   "execution_count": 56,
   "metadata": {},
   "outputs": [
    {
     "name": "stdout",
     "output_type": "stream",
     "text": [
      "[1, 2, 3, 4, 5, 15]\n",
      "[1, 2, 3, 4, 5, 15, 150, 18, 7, 1, 2, 1]\n",
      "3\n",
      "1\n"
     ]
    }
   ],
   "source": [
    "list2=[1,2,3,4,5]\n",
    "list2.append(15)\n",
    "print(list2)\n",
    "list2.append(150)\n",
    "list2.append(18)\n",
    "list2.append(7)\n",
    "list2.append(1)\n",
    "list2.append(2)\n",
    "list2.append(1)\n",
    "print(list2)\n",
    "print(list2.count(1))\n",
    "print(list2.count(18))"
   ]
  },
  {
   "cell_type": "code",
   "execution_count": 64,
   "metadata": {},
   "outputs": [
    {
     "name": "stdout",
     "output_type": "stream",
     "text": [
      "['gitam', 'python', 'raptor', 1, 5, 'python']\n",
      "['gitam', 'python', 'raptor', 1, 5, 'python']\n",
      "6\n",
      "['gitam', 'python', 'raptor', 1, 5, 'python']\n",
      "['gitam', 'python', 2019, 'raptor', 1, 5, 'python']\n",
      "7\n",
      "['gitam', 2019, 'raptor', 1, 5, 'python']\n",
      "['python', 5, 1, 'raptor', 2019, 'gitam']\n"
     ]
    }
   ],
   "source": [
    "list3=[\"gitam\",\"python\",\"raptor\",1,5,\"python\"]\n",
    "print(list3)\n",
    "list3.index('python')\n",
    "print(list3)\n",
    "print(len(list3))\n",
    "list3.index(1)\n",
    "print(list3)\n",
    "list3.insert(2,2019)\n",
    "print(list3)\n",
    "print(len(list3))\n",
    "list3.remove('python')\n",
    "print(list3)\n",
    "list3.reverse()\n",
    "print(list3)"
   ]
  },
  {
   "cell_type": "code",
   "execution_count": 84,
   "metadata": {},
   "outputs": [
    {
     "name": "stdout",
     "output_type": "stream",
     "text": [
      "target is not found\n"
     ]
    }
   ],
   "source": [
    "def linearsearch(a,targetItem):\n",
    "    flag=0\n",
    "    for i in range(len(a)):\n",
    "        if a[i]==targetItem:\n",
    "            flag=1\n",
    "            break\n",
    "    if(flag!=0):\n",
    "        print('target is found')\n",
    "    else:\n",
    "        print('target is not found')\n",
    "                \n",
    "a=[11,19,18,7,56]\n",
    "linearsearch(a,20)"
   ]
  },
  {
   "cell_type": "code",
   "execution_count": 89,
   "metadata": {},
   "outputs": [
    {
     "name": "stdout",
     "output_type": "stream",
     "text": [
      "2\n"
     ]
    }
   ],
   "source": [
    "def linearSearchDuplicate(a,targetItem):\n",
    "    flag=0\n",
    "    for i in range(len(a)):\n",
    "        if a[i]==targetItem:\n",
    "            flag=flag+1\n",
    "    print(flag)\n",
    "    \n",
    "a=[9,1,6,1,5,9,15,16]\n",
    "linearSearchDuplicate(a,1)"
   ]
  },
  {
   "cell_type": "code",
   "execution_count": null,
   "metadata": {},
   "outputs": [],
   "source": [
    "def lineareg(a,targetItem):\n",
    "    for i in range(len(a)):\n",
    "        if a[i]==targetItem:\n",
    "            j=0\n",
    "            while j!=j+1:\n",
    "                print(\"!\",end=\"\")\n",
    "            j=j+1\n",
    "        print(end=\"\")  \n",
    "        \n",
    "a=[1,2,3,4,5,6]\n",
    "lineareg(a,4)"
   ]
  },
  {
   "cell_type": "code",
   "execution_count": 1,
   "metadata": {},
   "outputs": [
    {
     "name": "stdout",
     "output_type": "stream",
     "text": [
      "!!!!!!!!"
     ]
    }
   ],
   "source": [
    "def linearexample(a,targetitem):\n",
    "    for i in range(len(a)):\n",
    "        if a[i] == targetitem:\n",
    "            j=0\n",
    "            while j!=i+1:\n",
    "              print(\"!\",end=\"\")\n",
    "              j=j+1 \n",
    "            print(end=\"\")\n",
    "        \n",
    "a=[1,2,3,4,5,6,7,8]\n",
    "linearexample(a,8)\n"
   ]
  },
  {
   "cell_type": "code",
   "execution_count": 2,
   "metadata": {
    "scrolled": false
   },
   "outputs": [
    {
     "name": "stdout",
     "output_type": "stream",
     "text": [
      "helo\n"
     ]
    }
   ],
   "source": []
  },
  {
   "cell_type": "code",
   "execution_count": null,
   "metadata": {},
   "outputs": [],
   "source": []
  }
 ],
 "metadata": {
  "kernelspec": {
   "display_name": "Python 3",
   "language": "python",
   "name": "python3"
  },
  "language_info": {
   "codemirror_mode": {
    "name": "ipython",
    "version": 3
   },
   "file_extension": ".py",
   "mimetype": "text/x-python",
   "name": "python",
   "nbconvert_exporter": "python",
   "pygments_lexer": "ipython3",
   "version": "3.7.3"
  }
 },
 "nbformat": 4,
 "nbformat_minor": 2
}
