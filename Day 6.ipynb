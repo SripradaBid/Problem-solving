{
 "cells": [
  {
   "cell_type": "code",
   "execution_count": 3,
   "metadata": {},
   "outputs": [
    {
     "name": "stdout",
     "output_type": "stream",
     "text": [
      "File is created Sucessfully and Data is written\n"
     ]
    }
   ],
   "source": [
    "#Functions to create a file and write some data \n",
    "def createFile(filename):\n",
    "    f = open(filename,\"w\")\n",
    "    for i in range(10):\n",
    "        f.write(\"This is %d Line\\n\" % i)\n",
    "    print(\"File is created Sucessfully and Data is written\")\n",
    "    f.close()\n",
    "    return\n",
    "createFile(\"file1.txt\")    "
   ]
  },
  {
   "cell_type": "code",
   "execution_count": 4,
   "metadata": {
    "scrolled": true
   },
   "outputs": [
    {
     "name": "stdout",
     "output_type": "stream",
     "text": [
      "This is 0 Line\n",
      "This is 1 Line\n",
      "This is 2 Line\n",
      "This is 3 Line\n",
      "This is 4 Line\n",
      "This is 5 Line\n",
      "This is 6 Line\n",
      "This is 7 Line\n",
      "This is 8 Line\n",
      "This is 9 Line\n",
      "\n"
     ]
    }
   ],
   "source": [
    "#Function for reading the file data \n",
    "def readFile(filename):\n",
    "    f = open(filename,\"r\")\n",
    "    if f.mode == \"r\":\n",
    "        x = f.read()\n",
    "        print(x)\n",
    "    f.close()\n",
    "    return\n",
    "readFile(\"file1.txt\")"
   ]
  },
  {
   "cell_type": "code",
   "execution_count": 8,
   "metadata": {},
   "outputs": [
    {
     "name": "stdout",
     "output_type": "stream",
     "text": [
      "File is created Sucessfully and Data is written\n"
     ]
    }
   ],
   "source": [
    "#Functions to create a file and write some data \n",
    "def createFile(filename):\n",
    "    f = open(filename,\"w\")\n",
    "    for i in range(10):\n",
    "        f.write(\"This is %d Line\\n\" % i)\n",
    "    print(\"File is created Sucessfully and Data is written\")\n",
    "    f.close()\n",
    "    return\n",
    "createFile(\"file1.txt\")    "
   ]
  },
  {
   "cell_type": "code",
   "execution_count": 9,
   "metadata": {},
   "outputs": [],
   "source": [
    "#Data to append\n",
    "#Function to append the data to existing file\n",
    "def appendData(filename):\n",
    "    f = open(filename,\"a\")\n",
    "    f.write(\"New line 1\\n\")\n",
    "    f.write(\"New line 2\\n\")\n",
    "    return\n",
    "appendData(\"file1.txt\")"
   ]
  },
  {
   "cell_type": "code",
   "execution_count": 10,
   "metadata": {},
   "outputs": [
    {
     "name": "stdout",
     "output_type": "stream",
     "text": [
      "0\n"
     ]
    }
   ],
   "source": [
    "def dataAnalysisWordCount(filename,word):\n",
    "    f = open(filename,\"r\")\n",
    "    if f.mode == \"r\":\n",
    "        x = f.read()\n",
    "        list = x.split()\n",
    "    cnt = list.count(word)\n",
    "    return cnt\n",
    "\n",
    "print(dataAnalysisWordCount(\"file1.txt\",'rest'))"
   ]
  },
  {
   "cell_type": "code",
   "execution_count": 7,
   "metadata": {},
   "outputs": [
    {
     "data": {
      "text/plain": [
       "13"
      ]
     },
     "execution_count": 7,
     "metadata": {},
     "output_type": "execute_result"
    }
   ],
   "source": [
    "def countLines(filename):\n",
    "    f = open(filename,\"r\")\n",
    "    if f.mode ==\"r\":\n",
    "        x = f.read()\n",
    "        lst = x.split(\"\\n\")\n",
    "    return len(lst)\n",
    "         \n",
    "countLines(\"file1.txt\")    "
   ]
  },
  {
   "cell_type": "code",
   "execution_count": null,
   "metadata": {},
   "outputs": [],
   "source": [
    "##pattern (RE) represents the set of values that a given pattern\n",
    "\n",
    "#1) [0-9] --> Any Digit\n",
    "\n",
    "#2) [a-z] --> Any Lower case characters\n",
    "\n",
    "#3) [A-Z] --> Any Upper Case characters\n",
    "\n",
    "#4) [2468] --> Multiplies of 2\n",
    "\n",
    "#5) ^[0-9]{1} --> Onlysingle digit number \n",
    "      # i)  cap symbol used for start of regular expression\n",
    "      # ii) Dollar symbol is used to end the regular expression\n",
    "#6) ^[0-9](3)--> Onlysingle digit number       # i)  cap symbol used for start of regular expression      # ii) Dollar symbol is used to end the regular expression#6) ^[0-9](3)  --> regular expression but will accept only three didgit number\n",
    "\n",
    "#7) ^[a-z]{5} -->It only accepts five character strings from the lower case\n",
    "#8) ^[a-zA-Z]{6}-->It only accepts five character strings from the lower case#8) ^[a-zA-Z]{6}  --> It accepts character strings of upper / lower case\n",
    "\n",
    "#9) ^[a-zA-Z]{6-15} --> A string of min 6 characters and max of 15 characters\n",
    "#10) ^[a-zA-Z0-9]{6-15} -->Upper vand lower and even digits are taken\n",
    "#11) ^[6-9][0-9]{9}--> A string of min 6 characters and max of 15 characters#10) ^[a-zA-Z0-9]{6-15} -->Upper vand lower and even digits are taken#11) ^[6-9][0-9]{9}  -- RE forIndian Mobile Number\n",
    "\n",
    "#12) ^[0][6-9][0-9]{9} -- RE for Indian Mobile Number \n",
    "#13) [+][9][1][6-9][0-9]{9}-- RE for Indian Mobile Number #13) [+][9][1][6-9][0-9]{9}  -- RE for Indian Mobile Number\n",
    "\n",
    "Regular Expression for Indian Mobile Number\n",
    "Validation for EmailID Username@DomainName.extension\n",
    "9876543210 -- First digit [6-9][0-9]\n",
    "09876543210 -- First Digit Zero Second digit[6-9] Last 9 digits[0-9]\n",
    "+919876543210 -- First + sign , Second digit 9 , third digit 1 ,\n",
    "               #Fourth digit [6-9] rest of 9 digit [0-9]\n",
    "\n"
   ]
  },
  {
   "cell_type": "code",
   "execution_count": 20,
   "metadata": {},
   "outputs": [
    {
     "name": "stdout",
     "output_type": "stream",
     "text": [
      "True\n",
      "False\n"
     ]
    }
   ],
   "source": [
    "import re\n",
    "def phoneNumberValidate(phone):\n",
    "    pattern='^[6-9][0-9]{9}'\n",
    "    phone=str(phone)\n",
    "    if re.match(pattern,phone):\n",
    "        return True\n",
    "    return False\n",
    "print(phoneNumberValidate(9876543210))\n",
    "print(phoneNumberValidate(924792704))"
   ]
  },
  {
   "cell_type": "code",
   "execution_count": 19,
   "metadata": {},
   "outputs": [
    {
     "name": "stdout",
     "output_type": "stream",
     "text": [
      "True\n"
     ]
    }
   ],
   "source": [
    "import re\n",
    "def phoneNumberValidate(phone):\n",
    "    pattern='^[6-9][0-9]{9}$|^[0][6-9][0-9]{9}$|[+][9][1][6-9][0-9]{9}$'\n",
    "    phone=str(phone)\n",
    "    if re.match(pattern,phone):\n",
    "        return True\n",
    "    return False\n",
    "print(phoneNumberValidate('+919849252541'))"
   ]
  },
  {
   "cell_type": "code",
   "execution_count": 21,
   "metadata": {},
   "outputs": [
    {
     "name": "stdout",
     "output_type": "stream",
     "text": [
      "True\n",
      "False\n"
     ]
    }
   ],
   "source": [
    "import re\n",
    "def validateRollNumber(number):\n",
    "    pattern='^[1][5][2][U][1][A][0][1-9][0-6][0-9]$'\n",
    "    phone=str(number)\n",
    "    if re.match(pattern,number):\n",
    "        return True\n",
    "    return False\n",
    "print(validateRollNumber('152U1A0555'))\n",
    "print(validateRollNumber('152U1A0485'))"
   ]
  },
  {
   "cell_type": "code",
   "execution_count": 24,
   "metadata": {},
   "outputs": [
    {
     "name": "stdout",
     "output_type": "stream",
     "text": [
      "False\n",
      "False\n"
     ]
    }
   ],
   "source": [
    "import re \n",
    "def validateEmailId(email):\n",
    "    pattern='^[0-9a-z][0-9a-z_.]{4,13}[0-9a-z][@][a-z0-9]{3-18}[.][a-z]{2,4}$'\n",
    "    if re.match(pattern,email):\n",
    "        return True\n",
    "    return False\n",
    "print(validateEmailId('arun.1807@gmail'))\n",
    "print(validateEmailId('anil.1889@gmail.com'))"
   ]
  },
  {
   "cell_type": "code",
   "execution_count": null,
   "metadata": {},
   "outputs": [],
   "source": [
    "  import re \n",
    "def validatePassword(s):\n",
    "    pattern='^[a-zA-Z$'\n",
    "    if re.match(pattern,s):\n",
    "        return True\n",
    "    return False\n",
    "print(validateEmailId('arun.1807@gmail'))"
   ]
  }
 ],
 "metadata": {
  "kernelspec": {
   "display_name": "Python 3",
   "language": "python",
   "name": "python3"
  },
  "language_info": {
   "codemirror_mode": {
    "name": "ipython",
    "version": 3
   },
   "file_extension": ".py",
   "mimetype": "text/x-python",
   "name": "python",
   "nbconvert_exporter": "python",
   "pygments_lexer": "ipython3",
   "version": "3.7.3"
  }
 },
 "nbformat": 4,
 "nbformat_minor": 2
}
